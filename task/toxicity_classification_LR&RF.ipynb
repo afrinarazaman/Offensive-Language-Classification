{
 "cells": [
  {
   "cell_type": "code",
   "execution_count": 1,
   "metadata": {},
   "outputs": [],
   "source": [
    "import numpy as np\n",
    "import pandas as pd\n",
    "import matplotlib.pyplot as plt\n",
    "import seaborn as sns"
   ]
  },
  {
   "cell_type": "code",
   "execution_count": 2,
   "metadata": {},
   "outputs": [
    {
     "data": {
      "text/html": [
       "<div>\n",
       "<style scoped>\n",
       "    .dataframe tbody tr th:only-of-type {\n",
       "        vertical-align: middle;\n",
       "    }\n",
       "\n",
       "    .dataframe tbody tr th {\n",
       "        vertical-align: top;\n",
       "    }\n",
       "\n",
       "    .dataframe thead th {\n",
       "        text-align: right;\n",
       "    }\n",
       "</style>\n",
       "<table border=\"1\" class=\"dataframe\">\n",
       "  <thead>\n",
       "    <tr style=\"text-align: right;\">\n",
       "      <th></th>\n",
       "      <th>id</th>\n",
       "      <th>feedback_text</th>\n",
       "      <th>toxic</th>\n",
       "      <th>abusive</th>\n",
       "      <th>vulgar</th>\n",
       "      <th>menace</th>\n",
       "      <th>offense</th>\n",
       "      <th>bigotry</th>\n",
       "    </tr>\n",
       "  </thead>\n",
       "  <tbody>\n",
       "    <tr>\n",
       "      <th>0</th>\n",
       "      <td>281d77b7bebc2201</td>\n",
       "      <td>:::Sounds good.  Let me know when you're done ...</td>\n",
       "      <td>0</td>\n",
       "      <td>0</td>\n",
       "      <td>0</td>\n",
       "      <td>0</td>\n",
       "      <td>0</td>\n",
       "      <td>0</td>\n",
       "    </tr>\n",
       "    <tr>\n",
       "      <th>1</th>\n",
       "      <td>716aac7bf3c63db1</td>\n",
       "      <td>\"\\nI say something, but it didn't actually con...</td>\n",
       "      <td>0</td>\n",
       "      <td>0</td>\n",
       "      <td>0</td>\n",
       "      <td>0</td>\n",
       "      <td>0</td>\n",
       "      <td>0</td>\n",
       "    </tr>\n",
       "    <tr>\n",
       "      <th>2</th>\n",
       "      <td>57cb318c6edcf10c</td>\n",
       "      <td>\"Agustina Barrientos]] \\n | Modelo de Piñeiro ...</td>\n",
       "      <td>0</td>\n",
       "      <td>0</td>\n",
       "      <td>0</td>\n",
       "      <td>0</td>\n",
       "      <td>0</td>\n",
       "      <td>0</td>\n",
       "    </tr>\n",
       "    <tr>\n",
       "      <th>3</th>\n",
       "      <td>dc3bd70118d91b3a</td>\n",
       "      <td>FYI I enjoy licking strangers scrotal sacks......</td>\n",
       "      <td>1</td>\n",
       "      <td>0</td>\n",
       "      <td>1</td>\n",
       "      <td>0</td>\n",
       "      <td>0</td>\n",
       "      <td>0</td>\n",
       "    </tr>\n",
       "    <tr>\n",
       "      <th>4</th>\n",
       "      <td>cf10d41f2997d233</td>\n",
       "      <td>How do you get a site?\\nMany penguins have ask...</td>\n",
       "      <td>0</td>\n",
       "      <td>0</td>\n",
       "      <td>0</td>\n",
       "      <td>0</td>\n",
       "      <td>0</td>\n",
       "      <td>0</td>\n",
       "    </tr>\n",
       "  </tbody>\n",
       "</table>\n",
       "</div>"
      ],
      "text/plain": [
       "                 id                                      feedback_text  toxic  \\\n",
       "0  281d77b7bebc2201  :::Sounds good.  Let me know when you're done ...      0   \n",
       "1  716aac7bf3c63db1  \"\\nI say something, but it didn't actually con...      0   \n",
       "2  57cb318c6edcf10c  \"Agustina Barrientos]] \\n | Modelo de Piñeiro ...      0   \n",
       "3  dc3bd70118d91b3a  FYI I enjoy licking strangers scrotal sacks......      1   \n",
       "4  cf10d41f2997d233  How do you get a site?\\nMany penguins have ask...      0   \n",
       "\n",
       "   abusive  vulgar  menace  offense  bigotry  \n",
       "0        0       0       0        0        0  \n",
       "1        0       0       0        0        0  \n",
       "2        0       0       0        0        0  \n",
       "3        0       1       0        0        0  \n",
       "4        0       0       0        0        0  "
      ]
     },
     "execution_count": 2,
     "metadata": {},
     "output_type": "execute_result"
    }
   ],
   "source": [
    "train_df = pd.read_csv('train.csv')\n",
    "train_df.head(5)"
   ]
  },
  {
   "cell_type": "code",
   "execution_count": 3,
   "metadata": {},
   "outputs": [
    {
     "data": {
      "text/plain": [
       "(23473, 8)"
      ]
     },
     "execution_count": 3,
     "metadata": {},
     "output_type": "execute_result"
    }
   ],
   "source": [
    "train_df.shape"
   ]
  },
  {
   "cell_type": "code",
   "execution_count": 4,
   "metadata": {},
   "outputs": [
    {
     "name": "stdout",
     "output_type": "stream",
     "text": [
      "<class 'pandas.core.frame.DataFrame'>\n",
      "RangeIndex: 23473 entries, 0 to 23472\n",
      "Data columns (total 8 columns):\n",
      " #   Column         Non-Null Count  Dtype \n",
      "---  ------         --------------  ----- \n",
      " 0   id             23473 non-null  object\n",
      " 1   feedback_text  23473 non-null  object\n",
      " 2   toxic          23473 non-null  int64 \n",
      " 3   abusive        23473 non-null  int64 \n",
      " 4   vulgar         23473 non-null  int64 \n",
      " 5   menace         23473 non-null  int64 \n",
      " 6   offense        23473 non-null  int64 \n",
      " 7   bigotry        23473 non-null  int64 \n",
      "dtypes: int64(6), object(2)\n",
      "memory usage: 1.4+ MB\n"
     ]
    }
   ],
   "source": [
    "train_df.info()\n"
   ]
  },
  {
   "cell_type": "code",
   "execution_count": 5,
   "metadata": {},
   "outputs": [
    {
     "data": {
      "text/plain": [
       "0        0\n",
       "1        0\n",
       "2        0\n",
       "3        2\n",
       "4        0\n",
       "        ..\n",
       "23468    2\n",
       "23469    2\n",
       "23470    0\n",
       "23471    0\n",
       "23472    2\n",
       "Name: label_count, Length: 23473, dtype: int64"
      ]
     },
     "execution_count": 5,
     "metadata": {},
     "output_type": "execute_result"
    }
   ],
   "source": [
    "train_df['label_count'] = train_df[['toxic', 'abusive', 'vulgar', 'menace', 'offense', 'bigotry']].sum(axis=1)\n",
    "train_df['label_count']"
   ]
  },
  {
   "cell_type": "code",
   "execution_count": 6,
   "metadata": {},
   "outputs": [
    {
     "data": {
      "text/plain": [
       "0          68\n",
       "1         413\n",
       "2         173\n",
       "3          73\n",
       "4         432\n",
       "         ... \n",
       "23468      26\n",
       "23469      20\n",
       "23470     251\n",
       "23471    2782\n",
       "23472     135\n",
       "Name: text_length, Length: 23473, dtype: int64"
      ]
     },
     "execution_count": 6,
     "metadata": {},
     "output_type": "execute_result"
    }
   ],
   "source": [
    "train_df['text_length'] = train_df['feedback_text'].apply(lambda x: len(str(x.strip())))\n",
    "train_df['text_length']"
   ]
  },
  {
   "cell_type": "code",
   "execution_count": 7,
   "metadata": {},
   "outputs": [
    {
     "data": {
      "text/plain": [
       "menace       66\n",
       "abusive     176\n",
       "bigotry     193\n",
       "offense    1150\n",
       "vulgar     1275\n",
       "toxic      2196\n",
       "dtype: int64"
      ]
     },
     "execution_count": 7,
     "metadata": {},
     "output_type": "execute_result"
    }
   ],
   "source": [
    "label_columns = ['toxic', 'abusive', 'vulgar', 'menace', 'offense', 'bigotry']\n",
    "label_counts = train_df[label_columns].sum().sort_values(ascending=True)\n",
    "label_counts"
   ]
  },
  {
   "cell_type": "code",
   "execution_count": 8,
   "metadata": {},
   "outputs": [
    {
     "data": {
      "image/png": "[encoded data removed]",
      "text/plain": [
       "<Figure size 1200x1000 with 1 Axes>"
      ]
     },
     "metadata": {},
     "output_type": "display_data"
    }
   ],
   "source": [
    "plt.figure(figsize=(12,10))\n",
    "sns.barplot(x=label_counts.index, y=label_counts.values)\n",
    "plt.show()"
   ]
  },
  {
   "cell_type": "code",
   "execution_count": 9,
   "metadata": {},
   "outputs": [
    {
     "data": {
      "image/png": "[encoded data removed]",
      "text/plain": [
       "<Figure size 640x480 with 1 Axes>"
      ]
     },
     "metadata": {},
     "output_type": "display_data"
    }
   ],
   "source": [
    "sns.countplot(data=train_df, x='label_count')\n",
    "plt.show()"
   ]
  },
  {
   "cell_type": "code",
   "execution_count": 10,
   "metadata": {},
   "outputs": [
    {
     "data": {
      "text/plain": [
       "<Axes: xlabel='text_length', ylabel='Count'>"
      ]
     },
     "execution_count": 10,
     "metadata": {},
     "output_type": "execute_result"
    },
    {
     "data": {
      "image/png": "[encoded data removed]",
      "text/plain": [
       "<Figure size 640x480 with 1 Axes>"
      ]
     },
     "metadata": {},
     "output_type": "display_data"
    }
   ],
   "source": [
    "sns.histplot(train_df['text_length'], bins=30, kde=True)"
   ]
  },
  {
   "cell_type": "code",
   "execution_count": 11,
   "metadata": {},
   "outputs": [
    {
     "name": "stdout",
     "output_type": "stream",
     "text": [
      "0 0\n"
     ]
    }
   ],
   "source": [
    "null_count = train_df['feedback_text'].isnull().sum()\n",
    "empty_comments = train_df['feedback_text'].apply(lambda x: str(x).strip == '').sum()\n",
    "print(null_count, empty_comments)"
   ]
  },
  {
   "cell_type": "code",
   "execution_count": 12,
   "metadata": {},
   "outputs": [
    {
     "data": {
      "text/plain": [
       "toxic\n",
       "0    415.840673\n",
       "1    268.198087\n",
       "Name: text_length, dtype: float64"
      ]
     },
     "execution_count": 12,
     "metadata": {},
     "output_type": "execute_result"
    }
   ],
   "source": [
    "train_df.groupby('toxic')['text_length'].mean()"
   ]
  },
  {
   "cell_type": "code",
   "execution_count": 13,
   "metadata": {},
   "outputs": [
    {
     "data": {
      "text/plain": [
       "3     FYI I enjoy licking strangers scrotal sacks......\n",
       "7                                GO GET A IFE DICK SHOW\n",
       "11    \"\\n\\n\"\"Failed\"\"? Those images fully comply wit...\n",
       "12    Fucking lying nigger, fes up you peice of shit...\n",
       "13    Don't hide the incriminating photographs you N...\n",
       "Name: feedback_text, dtype: object"
      ]
     },
     "execution_count": 13,
     "metadata": {},
     "output_type": "execute_result"
    }
   ],
   "source": [
    "train_df[train_df['toxic'] == 1]['feedback_text'].head()"
   ]
  },
  {
   "cell_type": "code",
   "execution_count": 14,
   "metadata": {},
   "outputs": [
    {
     "data": {
      "text/plain": [
       "<Axes: >"
      ]
     },
     "execution_count": 14,
     "metadata": {},
     "output_type": "execute_result"
    },
    {
     "data": {
      "image/png": "[encoded data removed]",
      "text/plain": [
       "<Figure size 640x480 with 2 Axes>"
      ]
     },
     "metadata": {},
     "output_type": "display_data"
    }
   ],
   "source": [
    "sns.heatmap(train_df[label_columns].corr(), annot=True)"
   ]
  },
  {
   "cell_type": "code",
   "execution_count": 15,
   "metadata": {},
   "outputs": [
    {
     "data": {
      "text/html": [
       "<div>\n",
       "<style scoped>\n",
       "    .dataframe tbody tr th:only-of-type {\n",
       "        vertical-align: middle;\n",
       "    }\n",
       "\n",
       "    .dataframe tbody tr th {\n",
       "        vertical-align: top;\n",
       "    }\n",
       "\n",
       "    .dataframe thead th {\n",
       "        text-align: right;\n",
       "    }\n",
       "</style>\n",
       "<table border=\"1\" class=\"dataframe\">\n",
       "  <thead>\n",
       "    <tr style=\"text-align: right;\">\n",
       "      <th></th>\n",
       "      <th>id</th>\n",
       "      <th>feedback_text</th>\n",
       "      <th>toxic</th>\n",
       "      <th>abusive</th>\n",
       "      <th>vulgar</th>\n",
       "      <th>menace</th>\n",
       "      <th>offense</th>\n",
       "      <th>bigotry</th>\n",
       "      <th>label_count</th>\n",
       "      <th>text_length</th>\n",
       "    </tr>\n",
       "  </thead>\n",
       "  <tbody>\n",
       "    <tr>\n",
       "      <th>0</th>\n",
       "      <td>281d77b7bebc2201</td>\n",
       "      <td>:::Sounds good.  Let me know when you're done ...</td>\n",
       "      <td>0</td>\n",
       "      <td>0</td>\n",
       "      <td>0</td>\n",
       "      <td>0</td>\n",
       "      <td>0</td>\n",
       "      <td>0</td>\n",
       "      <td>0</td>\n",
       "      <td>68</td>\n",
       "    </tr>\n",
       "    <tr>\n",
       "      <th>1</th>\n",
       "      <td>716aac7bf3c63db1</td>\n",
       "      <td>\"\\nI say something, but it didn't actually con...</td>\n",
       "      <td>0</td>\n",
       "      <td>0</td>\n",
       "      <td>0</td>\n",
       "      <td>0</td>\n",
       "      <td>0</td>\n",
       "      <td>0</td>\n",
       "      <td>0</td>\n",
       "      <td>413</td>\n",
       "    </tr>\n",
       "  </tbody>\n",
       "</table>\n",
       "</div>"
      ],
      "text/plain": [
       "                 id                                      feedback_text  toxic  \\\n",
       "0  281d77b7bebc2201  :::Sounds good.  Let me know when you're done ...      0   \n",
       "1  716aac7bf3c63db1  \"\\nI say something, but it didn't actually con...      0   \n",
       "\n",
       "   abusive  vulgar  menace  offense  bigotry  label_count  text_length  \n",
       "0        0       0       0        0        0            0           68  \n",
       "1        0       0       0        0        0            0          413  "
      ]
     },
     "execution_count": 15,
     "metadata": {},
     "output_type": "execute_result"
    }
   ],
   "source": [
    "train_df.head(2)"
   ]
  },
  {
   "cell_type": "code",
   "execution_count": 16,
   "metadata": {},
   "outputs": [
    {
     "data": {
      "text/html": [
       "<div>\n",
       "<style scoped>\n",
       "    .dataframe tbody tr th:only-of-type {\n",
       "        vertical-align: middle;\n",
       "    }\n",
       "\n",
       "    .dataframe tbody tr th {\n",
       "        vertical-align: top;\n",
       "    }\n",
       "\n",
       "    .dataframe thead th {\n",
       "        text-align: right;\n",
       "    }\n",
       "</style>\n",
       "<table border=\"1\" class=\"dataframe\">\n",
       "  <thead>\n",
       "    <tr style=\"text-align: right;\">\n",
       "      <th></th>\n",
       "      <th>id</th>\n",
       "      <th>feedback_text</th>\n",
       "      <th>lang</th>\n",
       "      <th>toxic</th>\n",
       "    </tr>\n",
       "  </thead>\n",
       "  <tbody>\n",
       "    <tr>\n",
       "      <th>0</th>\n",
       "      <td>1203</td>\n",
       "      <td>İyi tamam olabilir. Balkanlar maddesini gelişt...</td>\n",
       "      <td>tr</td>\n",
       "      <td>0</td>\n",
       "    </tr>\n",
       "    <tr>\n",
       "      <th>1</th>\n",
       "      <td>5871</td>\n",
       "      <td>Por dios, y la canción de John Lennon: http://...</td>\n",
       "      <td>es</td>\n",
       "      <td>1</td>\n",
       "    </tr>\n",
       "  </tbody>\n",
       "</table>\n",
       "</div>"
      ],
      "text/plain": [
       "     id                                      feedback_text lang  toxic\n",
       "0  1203  İyi tamam olabilir. Balkanlar maddesini gelişt...   tr      0\n",
       "1  5871  Por dios, y la canción de John Lennon: http://...   es      1"
      ]
     },
     "execution_count": 16,
     "metadata": {},
     "output_type": "execute_result"
    }
   ],
   "source": [
    "validation_df = pd.read_csv('validation.csv')\n",
    "validation_df.head(2)"
   ]
  },
  {
   "cell_type": "code",
   "execution_count": 17,
   "metadata": {},
   "outputs": [
    {
     "data": {
      "text/plain": [
       "array(['tr', 'es', 'it'], dtype=object)"
      ]
     },
     "execution_count": 17,
     "metadata": {},
     "output_type": "execute_result"
    }
   ],
   "source": [
    "validation_df['lang'].unique()"
   ]
  },
  {
   "cell_type": "code",
   "execution_count": 18,
   "metadata": {},
   "outputs": [
    {
     "data": {
      "text/plain": [
       "lang\n",
       "tr    299\n",
       "es    279\n",
       "it    262\n",
       "Name: count, dtype: int64"
      ]
     },
     "execution_count": 18,
     "metadata": {},
     "output_type": "execute_result"
    }
   ],
   "source": [
    "validation_df['lang'].value_counts()"
   ]
  },
  {
   "cell_type": "code",
   "execution_count": 19,
   "metadata": {},
   "outputs": [
    {
     "data": {
      "text/html": [
       "<div>\n",
       "<style scoped>\n",
       "    .dataframe tbody tr th:only-of-type {\n",
       "        vertical-align: middle;\n",
       "    }\n",
       "\n",
       "    .dataframe tbody tr th {\n",
       "        vertical-align: top;\n",
       "    }\n",
       "\n",
       "    .dataframe thead th {\n",
       "        text-align: right;\n",
       "    }\n",
       "</style>\n",
       "<table border=\"1\" class=\"dataframe\">\n",
       "  <thead>\n",
       "    <tr style=\"text-align: right;\">\n",
       "      <th></th>\n",
       "      <th>id</th>\n",
       "      <th>content</th>\n",
       "      <th>lang</th>\n",
       "    </tr>\n",
       "  </thead>\n",
       "  <tbody>\n",
       "    <tr>\n",
       "      <th>0</th>\n",
       "      <td>56496</td>\n",
       "      <td>Bahar merhaba, Şu TV programı için bildiğin gi...</td>\n",
       "      <td>tr</td>\n",
       "    </tr>\n",
       "    <tr>\n",
       "      <th>1</th>\n",
       "      <td>18266</td>\n",
       "      <td>Merhaba, başlık taşıma nedeniyle bir karışıklı...</td>\n",
       "      <td>tr</td>\n",
       "    </tr>\n",
       "  </tbody>\n",
       "</table>\n",
       "</div>"
      ],
      "text/plain": [
       "      id                                            content lang\n",
       "0  56496  Bahar merhaba, Şu TV programı için bildiğin gi...   tr\n",
       "1  18266  Merhaba, başlık taşıma nedeniyle bir karışıklı...   tr"
      ]
     },
     "execution_count": 19,
     "metadata": {},
     "output_type": "execute_result"
    }
   ],
   "source": [
    "test_df = pd.read_csv('test.csv')\n",
    "test_df.head(2)"
   ]
  },
  {
   "cell_type": "code",
   "execution_count": 20,
   "metadata": {},
   "outputs": [
    {
     "data": {
      "text/plain": [
       "array(['tr', 'fr', 'pt', 'it', 'ru', 'es'], dtype=object)"
      ]
     },
     "execution_count": 20,
     "metadata": {},
     "output_type": "execute_result"
    }
   ],
   "source": [
    "test_df['lang'].unique()"
   ]
  },
  {
   "cell_type": "code",
   "execution_count": 21,
   "metadata": {},
   "outputs": [
    {
     "data": {
      "text/plain": [
       "lang\n",
       "tr    1449\n",
       "ru    1182\n",
       "pt    1167\n",
       "fr    1149\n",
       "it     904\n",
       "es     849\n",
       "Name: count, dtype: int64"
      ]
     },
     "execution_count": 21,
     "metadata": {},
     "output_type": "execute_result"
    }
   ],
   "source": [
    "test_df['lang'].value_counts()"
   ]
  },
  {
   "cell_type": "code",
   "execution_count": 22,
   "metadata": {},
   "outputs": [],
   "source": [
    "import re\n",
    "import string\n",
    "import nltk\n",
    "from nltk.corpus import stopwords\n",
    "from nltk.stem import WordNetLemmatizer\n"
   ]
  },
  {
   "cell_type": "code",
   "execution_count": 23,
   "metadata": {},
   "outputs": [
    {
     "name": "stderr",
     "output_type": "stream",
     "text": [
      "[nltk_data] Downloading package stopwords to /home/afrin/nltk_data...\n",
      "[nltk_data]   Package stopwords is already up-to-date!\n",
      "[nltk_data] Downloading package punkt to /home/afrin/nltk_data...\n",
      "[nltk_data]   Package punkt is already up-to-date!\n",
      "[nltk_data] Downloading package wordnet to /home/afrin/nltk_data...\n",
      "[nltk_data]   Package wordnet is already up-to-date!\n"
     ]
    },
    {
     "data": {
      "text/plain": [
       "True"
      ]
     },
     "execution_count": 23,
     "metadata": {},
     "output_type": "execute_result"
    }
   ],
   "source": [
    "nltk.download('stopwords')\n",
    "nltk.download('punkt')\n",
    "nltk.download('wordnet')"
   ]
  },
  {
   "cell_type": "markdown",
   "metadata": {},
   "source": [
    "- Detects the language using langdetect\n",
    "- calculates the ratio of characters\n",
    "- punctuation checks\n",
    "- low alphabetic check\n",
    "- translate to english\n",
    "- filtering out the meaningless, normalization and language translation"
   ]
  },
  {
   "cell_type": "code",
   "execution_count": 24,
   "metadata": {},
   "outputs": [],
   "source": [
    "from langdetect import detect, DetectorFactory\n",
    "from googletrans import Translator\n",
    "\n",
    "DetectorFactory.seed = 0  \n",
    "translator = Translator()\n",
    "\n",
    "def detect_language_safe(text):\n",
    "    try:\n",
    "        return detect(text)\n",
    "    except Exception:\n",
    "        return 'unknown'\n",
    "\n",
    "def char_ratio(text):\n",
    "    text = str(text)\n",
    "    return sum(c.isalpha() for c in text) / len(text) if len(text) > 0 else 0\n",
    "\n",
    "def is_punct_only(text):\n",
    "    return all(char in string.punctuation for char in str(text).strip())\n",
    "\n",
    "def is_low_alpha(text):\n",
    "    tokens = nltk.word_tokenize(text)\n",
    "    return all(not any(c.isalpha() for c in token) for token in tokens)\n",
    "\n",
    "def translate_to_english(text):\n",
    "    try:\n",
    "        return translator.translate(text, dest='en').text\n",
    "    except Exception:\n",
    "        return text "
   ]
  },
  {
   "cell_type": "markdown",
   "metadata": {},
   "source": [
    "- detect language\n",
    "- filter all the noise like short texts, punctuation, low alphabet\n",
    "- stopword remove\n",
    "- lemmatization"
   ]
  },
  {
   "cell_type": "code",
   "execution_count": 25,
   "metadata": {},
   "outputs": [],
   "source": [
    "def preprocess_with_lang(df, col='feedback_text', detect_lang=False):\n",
    "    \n",
    "    df = df.copy()\n",
    "    lemmatizer = WordNetLemmatizer()\n",
    "    punctuation_wo_apostrophe = string.punctuation.replace(\"'\", \"\")\n",
    "    \n",
    "    multilingual_stopwords = {\n",
    "        'en': set(stopwords.words('english')),\n",
    "        'es': set(stopwords.words('spanish')),\n",
    "        'tr': set(stopwords.words('turkish')),\n",
    "        'fr': set(stopwords.words('french')),\n",
    "        'pt': set(stopwords.words('portuguese')),\n",
    "        'it': set(stopwords.words('italian')),\n",
    "        'de': set(stopwords.words('german')),\n",
    "        'ru': set(stopwords.words('russian')),\n",
    "    }\n",
    "    \n",
    "   \n",
    "    if detect_lang or 'lang' not in df.columns:\n",
    "        df['lang'] = df[col].apply(detect_language_safe)\n",
    "    \n",
    "   \n",
    "    df['alpha_ratio'] = df[col].apply(char_ratio)\n",
    "    df['text_length'] = df[col].str.split().apply(len)\n",
    "    df['is_punct'] = df[col].apply(is_punct_only)\n",
    "    df['is_low_alpha'] = df[col].apply(is_low_alpha)\n",
    "    \n",
    "    df = df[df['text_length'] >= 3]\n",
    "    df = df[df['alpha_ratio'] > 0.4]\n",
    "    df = df[~df['is_punct']]\n",
    "    df = df[~df['is_low_alpha']]\n",
    "    \n",
    "    def clean_text(text, lang):\n",
    "        stop_words = multilingual_stopwords.get(lang, set())\n",
    "        text = str(text).lower()\n",
    "        text = re.sub(r'[\\n\\r]+', ' ', text)\n",
    "        text = re.sub(r'\\d+', '', text)\n",
    "        text = re.sub(rf\"[{re.escape(punctuation_wo_apostrophe)}]\", '', text)\n",
    "        text = re.sub(r'\\s+', ' ', text).strip()\n",
    "        tokens = nltk.word_tokenize(text)\n",
    "        tokens = [lemmatizer.lemmatize(word) for word in tokens if word not in stop_words]\n",
    "        return ' '.join(tokens)\n",
    "    \n",
    "   \n",
    "    df['clean_text'] = df.apply(lambda row: clean_text(row[col], row['lang']), axis=1)\n",
    "    df['text_length'] = df['clean_text'].apply(lambda x: len(x.split()))\n",
    "    \n",
    "    label_cols = ['toxic', 'abusive', 'vulgar', 'menace', 'offense', 'bigotry']\n",
    "    if all(col in df.columns for col in label_cols):\n",
    "        df['label_count'] = df[label_cols].sum(axis=1)\n",
    "    \n",
    "    return df"
   ]
  },
  {
   "cell_type": "code",
   "execution_count": 26,
   "metadata": {},
   "outputs": [],
   "source": [
    "train_df = preprocess_with_lang(train_df, col='feedback_text', detect_lang=True)"
   ]
  },
  {
   "cell_type": "code",
   "execution_count": 27,
   "metadata": {},
   "outputs": [
    {
     "data": {
      "text/html": [
       "<div>\n",
       "<style scoped>\n",
       "    .dataframe tbody tr th:only-of-type {\n",
       "        vertical-align: middle;\n",
       "    }\n",
       "\n",
       "    .dataframe tbody tr th {\n",
       "        vertical-align: top;\n",
       "    }\n",
       "\n",
       "    .dataframe thead th {\n",
       "        text-align: right;\n",
       "    }\n",
       "</style>\n",
       "<table border=\"1\" class=\"dataframe\">\n",
       "  <thead>\n",
       "    <tr style=\"text-align: right;\">\n",
       "      <th></th>\n",
       "      <th>id</th>\n",
       "      <th>feedback_text</th>\n",
       "      <th>toxic</th>\n",
       "      <th>abusive</th>\n",
       "      <th>vulgar</th>\n",
       "      <th>menace</th>\n",
       "      <th>offense</th>\n",
       "      <th>bigotry</th>\n",
       "      <th>label_count</th>\n",
       "      <th>text_length</th>\n",
       "      <th>lang</th>\n",
       "      <th>alpha_ratio</th>\n",
       "      <th>is_punct</th>\n",
       "      <th>is_low_alpha</th>\n",
       "      <th>clean_text</th>\n",
       "    </tr>\n",
       "  </thead>\n",
       "  <tbody>\n",
       "    <tr>\n",
       "      <th>0</th>\n",
       "      <td>281d77b7bebc2201</td>\n",
       "      <td>:::Sounds good.  Let me know when you're done ...</td>\n",
       "      <td>0</td>\n",
       "      <td>0</td>\n",
       "      <td>0</td>\n",
       "      <td>0</td>\n",
       "      <td>0</td>\n",
       "      <td>0</td>\n",
       "      <td>0</td>\n",
       "      <td>9</td>\n",
       "      <td>en</td>\n",
       "      <td>0.705882</td>\n",
       "      <td>False</td>\n",
       "      <td>False</td>\n",
       "      <td>sound good let know 're done 'll start pr</td>\n",
       "    </tr>\n",
       "    <tr>\n",
       "      <th>1</th>\n",
       "      <td>716aac7bf3c63db1</td>\n",
       "      <td>\"\\nI say something, but it didn't actually con...</td>\n",
       "      <td>0</td>\n",
       "      <td>0</td>\n",
       "      <td>0</td>\n",
       "      <td>0</td>\n",
       "      <td>0</td>\n",
       "      <td>0</td>\n",
       "      <td>0</td>\n",
       "      <td>42</td>\n",
       "      <td>en</td>\n",
       "      <td>0.745763</td>\n",
       "      <td>False</td>\n",
       "      <td>False</td>\n",
       "      <td>say something n't actually confirm anything pu...</td>\n",
       "    </tr>\n",
       "    <tr>\n",
       "      <th>2</th>\n",
       "      <td>57cb318c6edcf10c</td>\n",
       "      <td>\"Agustina Barrientos]] \\n | Modelo de Piñeiro ...</td>\n",
       "      <td>0</td>\n",
       "      <td>0</td>\n",
       "      <td>0</td>\n",
       "      <td>0</td>\n",
       "      <td>0</td>\n",
       "      <td>0</td>\n",
       "      <td>0</td>\n",
       "      <td>11</td>\n",
       "      <td>es</td>\n",
       "      <td>0.578035</td>\n",
       "      <td>False</td>\n",
       "      <td>False</td>\n",
       "      <td>agustina barrientos modelo piñeiro juán cruz a...</td>\n",
       "    </tr>\n",
       "    <tr>\n",
       "      <th>3</th>\n",
       "      <td>dc3bd70118d91b3a</td>\n",
       "      <td>FYI I enjoy licking strangers scrotal sacks......</td>\n",
       "      <td>1</td>\n",
       "      <td>0</td>\n",
       "      <td>1</td>\n",
       "      <td>0</td>\n",
       "      <td>0</td>\n",
       "      <td>0</td>\n",
       "      <td>2</td>\n",
       "      <td>9</td>\n",
       "      <td>en</td>\n",
       "      <td>0.808219</td>\n",
       "      <td>False</td>\n",
       "      <td>False</td>\n",
       "      <td>fyi enjoy licking stranger scrotal sacksespeci...</td>\n",
       "    </tr>\n",
       "    <tr>\n",
       "      <th>4</th>\n",
       "      <td>cf10d41f2997d233</td>\n",
       "      <td>How do you get a site?\\nMany penguins have ask...</td>\n",
       "      <td>0</td>\n",
       "      <td>0</td>\n",
       "      <td>0</td>\n",
       "      <td>0</td>\n",
       "      <td>0</td>\n",
       "      <td>0</td>\n",
       "      <td>0</td>\n",
       "      <td>35</td>\n",
       "      <td>en</td>\n",
       "      <td>0.750000</td>\n",
       "      <td>False</td>\n",
       "      <td>False</td>\n",
       "      <td>get site many penguin asked question simple go...</td>\n",
       "    </tr>\n",
       "  </tbody>\n",
       "</table>\n",
       "</div>"
      ],
      "text/plain": [
       "                 id                                      feedback_text  toxic  \\\n",
       "0  281d77b7bebc2201  :::Sounds good.  Let me know when you're done ...      0   \n",
       "1  716aac7bf3c63db1  \"\\nI say something, but it didn't actually con...      0   \n",
       "2  57cb318c6edcf10c  \"Agustina Barrientos]] \\n | Modelo de Piñeiro ...      0   \n",
       "3  dc3bd70118d91b3a  FYI I enjoy licking strangers scrotal sacks......      1   \n",
       "4  cf10d41f2997d233  How do you get a site?\\nMany penguins have ask...      0   \n",
       "\n",
       "   abusive  vulgar  menace  offense  bigotry  label_count  text_length lang  \\\n",
       "0        0       0       0        0        0            0            9   en   \n",
       "1        0       0       0        0        0            0           42   en   \n",
       "2        0       0       0        0        0            0           11   es   \n",
       "3        0       1       0        0        0            2            9   en   \n",
       "4        0       0       0        0        0            0           35   en   \n",
       "\n",
       "   alpha_ratio  is_punct  is_low_alpha  \\\n",
       "0     0.705882     False         False   \n",
       "1     0.745763     False         False   \n",
       "2     0.578035     False         False   \n",
       "3     0.808219     False         False   \n",
       "4     0.750000     False         False   \n",
       "\n",
       "                                          clean_text  \n",
       "0          sound good let know 're done 'll start pr  \n",
       "1  say something n't actually confirm anything pu...  \n",
       "2  agustina barrientos modelo piñeiro juán cruz a...  \n",
       "3  fyi enjoy licking stranger scrotal sacksespeci...  \n",
       "4  get site many penguin asked question simple go...  "
      ]
     },
     "execution_count": 27,
     "metadata": {},
     "output_type": "execute_result"
    }
   ],
   "source": [
    "train_df.head(5)"
   ]
  },
  {
   "cell_type": "code",
   "execution_count": 28,
   "metadata": {},
   "outputs": [
    {
     "data": {
      "text/plain": [
       "array(['en', 'es', 'tl', 'no', 'fa', 'af', 'de', 'id', 'so', 'fr', 'vi',\n",
       "       'sl', 'pt', 'sw', 'hr', 'et', 'da', 'nl', 'it', 'cs', 'sv', 'tr',\n",
       "       'ro', 'cy', 'ar', 'fi', 'pl', 'bn', 'ca', 'hu', 'sq', 'ru', 'he',\n",
       "       'ko', 'zh-cn', 'gu', 'ta', 'el', 'sk', 'unknown', 'hi', 'th', 'mk',\n",
       "       'ml', 'zh-tw', 'lt', 'te', 'mr', 'bg'], dtype=object)"
      ]
     },
     "execution_count": 28,
     "metadata": {},
     "output_type": "execute_result"
    }
   ],
   "source": [
    "train_df['lang'].unique()"
   ]
  },
  {
   "cell_type": "code",
   "execution_count": 29,
   "metadata": {},
   "outputs": [
    {
     "data": {
      "text/plain": [
       "lang\n",
       "en         22531\n",
       "de            85\n",
       "fr            58\n",
       "so            56\n",
       "af            49\n",
       "id            43\n",
       "no            33\n",
       "et            33\n",
       "tl            28\n",
       "es            27\n",
       "nl            27\n",
       "cy            27\n",
       "sv            26\n",
       "pt            25\n",
       "ca            21\n",
       "da            20\n",
       "tr            20\n",
       "it            20\n",
       "hr            19\n",
       "ro            18\n",
       "vi            16\n",
       "fa            14\n",
       "ar            12\n",
       "sq            11\n",
       "hu            10\n",
       "pl             7\n",
       "sl             7\n",
       "sw             6\n",
       "ru             6\n",
       "fi             6\n",
       "el             3\n",
       "hi             3\n",
       "sk             3\n",
       "he             2\n",
       "bn             2\n",
       "cs             2\n",
       "ko             2\n",
       "unknown        2\n",
       "ml             2\n",
       "zh-cn          1\n",
       "ta             1\n",
       "gu             1\n",
       "th             1\n",
       "mk             1\n",
       "zh-tw          1\n",
       "lt             1\n",
       "te             1\n",
       "mr             1\n",
       "bg             1\n",
       "Name: count, dtype: int64"
      ]
     },
     "execution_count": 29,
     "metadata": {},
     "output_type": "execute_result"
    }
   ],
   "source": [
    "train_df['lang'].value_counts()"
   ]
  },
  {
   "cell_type": "code",
   "execution_count": 30,
   "metadata": {},
   "outputs": [
    {
     "name": "stderr",
     "output_type": "stream",
     "text": [
      "/tmp/ipykernel_160438/2260654159.py:28: RuntimeWarning: coroutine 'Translator.translate' was never awaited\n",
      "  return text\n",
      "RuntimeWarning: Enable tracemalloc to get the object allocation traceback\n"
     ]
    },
    {
     "data": {
      "text/html": [
       "<div>\n",
       "<style scoped>\n",
       "    .dataframe tbody tr th:only-of-type {\n",
       "        vertical-align: middle;\n",
       "    }\n",
       "\n",
       "    .dataframe tbody tr th {\n",
       "        vertical-align: top;\n",
       "    }\n",
       "\n",
       "    .dataframe thead th {\n",
       "        text-align: right;\n",
       "    }\n",
       "</style>\n",
       "<table border=\"1\" class=\"dataframe\">\n",
       "  <thead>\n",
       "    <tr style=\"text-align: right;\">\n",
       "      <th></th>\n",
       "      <th>id</th>\n",
       "      <th>feedback_text</th>\n",
       "      <th>toxic</th>\n",
       "      <th>abusive</th>\n",
       "      <th>vulgar</th>\n",
       "      <th>menace</th>\n",
       "      <th>offense</th>\n",
       "      <th>bigotry</th>\n",
       "      <th>label_count</th>\n",
       "      <th>text_length</th>\n",
       "      <th>lang</th>\n",
       "      <th>alpha_ratio</th>\n",
       "      <th>is_punct</th>\n",
       "      <th>is_low_alpha</th>\n",
       "      <th>clean_text</th>\n",
       "      <th>translated_text</th>\n",
       "    </tr>\n",
       "  </thead>\n",
       "  <tbody>\n",
       "    <tr>\n",
       "      <th>0</th>\n",
       "      <td>281d77b7bebc2201</td>\n",
       "      <td>:::Sounds good.  Let me know when you're done ...</td>\n",
       "      <td>0</td>\n",
       "      <td>0</td>\n",
       "      <td>0</td>\n",
       "      <td>0</td>\n",
       "      <td>0</td>\n",
       "      <td>0</td>\n",
       "      <td>0</td>\n",
       "      <td>9</td>\n",
       "      <td>en</td>\n",
       "      <td>0.705882</td>\n",
       "      <td>False</td>\n",
       "      <td>False</td>\n",
       "      <td>sound good let know 're done 'll start pr</td>\n",
       "      <td>sound good let know 're done 'll start pr</td>\n",
       "    </tr>\n",
       "    <tr>\n",
       "      <th>1</th>\n",
       "      <td>716aac7bf3c63db1</td>\n",
       "      <td>\"\\nI say something, but it didn't actually con...</td>\n",
       "      <td>0</td>\n",
       "      <td>0</td>\n",
       "      <td>0</td>\n",
       "      <td>0</td>\n",
       "      <td>0</td>\n",
       "      <td>0</td>\n",
       "      <td>0</td>\n",
       "      <td>42</td>\n",
       "      <td>en</td>\n",
       "      <td>0.745763</td>\n",
       "      <td>False</td>\n",
       "      <td>False</td>\n",
       "      <td>say something n't actually confirm anything pu...</td>\n",
       "      <td>say something n't actually confirm anything pu...</td>\n",
       "    </tr>\n",
       "  </tbody>\n",
       "</table>\n",
       "</div>"
      ],
      "text/plain": [
       "                 id                                      feedback_text  toxic  \\\n",
       "0  281d77b7bebc2201  :::Sounds good.  Let me know when you're done ...      0   \n",
       "1  716aac7bf3c63db1  \"\\nI say something, but it didn't actually con...      0   \n",
       "\n",
       "   abusive  vulgar  menace  offense  bigotry  label_count  text_length lang  \\\n",
       "0        0       0       0        0        0            0            9   en   \n",
       "1        0       0       0        0        0            0           42   en   \n",
       "\n",
       "   alpha_ratio  is_punct  is_low_alpha  \\\n",
       "0     0.705882     False         False   \n",
       "1     0.745763     False         False   \n",
       "\n",
       "                                          clean_text  \\\n",
       "0          sound good let know 're done 'll start pr   \n",
       "1  say something n't actually confirm anything pu...   \n",
       "\n",
       "                                     translated_text  \n",
       "0          sound good let know 're done 'll start pr  \n",
       "1  say something n't actually confirm anything pu...  "
      ]
     },
     "execution_count": 30,
     "metadata": {},
     "output_type": "execute_result"
    }
   ],
   "source": [
    "train_df['translated_text'] = train_df['clean_text'].apply(translate_to_english)\n",
    "train_df.head(2)"
   ]
  },
  {
   "cell_type": "markdown",
   "metadata": {},
   "source": [
    "- clean input for model evaluation\n",
    "- language noise removed during feature engineering"
   ]
  },
  {
   "cell_type": "code",
   "execution_count": 31,
   "metadata": {},
   "outputs": [
    {
     "name": "stderr",
     "output_type": "stream",
     "text": [
      "/tmp/ipykernel_160438/2260654159.py:28: RuntimeWarning: coroutine 'Translator.translate' was never awaited\n",
      "  return text\n",
      "RuntimeWarning: Enable tracemalloc to get the object allocation traceback\n",
      "/tmp/ipykernel_160438/2260654159.py:28: RuntimeWarning: coroutine 'Translator.translate' was never awaited\n",
      "  return text\n",
      "RuntimeWarning: Enable tracemalloc to get the object allocation traceback\n"
     ]
    }
   ],
   "source": [
    "validation_df = preprocess_with_lang(validation_df, col='feedback_text', detect_lang=False)\n",
    "test_df = preprocess_with_lang(test_df, col='content', detect_lang=False)\n",
    "\n",
    "validation_df['translated_text'] = validation_df['clean_text'].apply(translate_to_english)\n",
    "test_df['translated_text'] = test_df['clean_text'].apply(translate_to_english)"
   ]
  },
  {
   "cell_type": "code",
   "execution_count": 32,
   "metadata": {},
   "outputs": [
    {
     "name": "stderr",
     "output_type": "stream",
     "text": [
      "/tmp/ipykernel_160438/1892309529.py:10: FutureWarning: \n",
      "\n",
      "Passing `palette` without assigning `hue` is deprecated and will be removed in v0.14.0. Assign the `x` variable to `hue` and set `legend=False` for the same effect.\n",
      "\n",
      "  sns.barplot(x=label_sums.index, y=label_sums.values, palette='magma')\n"
     ]
    },
    {
     "data": {
      "image/png": "[encoded data removed]",
      "text/plain": [
       "<Figure size 1000x500 with 1 Axes>"
      ]
     },
     "metadata": {},
     "output_type": "display_data"
    },
    {
     "name": "stderr",
     "output_type": "stream",
     "text": [
      "/tmp/ipykernel_160438/1892309529.py:19: FutureWarning: \n",
      "\n",
      "Passing `palette` without assigning `hue` is deprecated and will be removed in v0.14.0. Assign the `x` variable to `hue` and set `legend=False` for the same effect.\n",
      "\n",
      "  sns.barplot(x=[w[0] for w in word_freq], y=[w[1] for w in word_freq], palette=\"viridis\")\n"
     ]
    },
    {
     "data": {
      "image/png": "[encoded data removed]",
      "text/plain": [
       "<Figure size 1200x500 with 1 Axes>"
      ]
     },
     "metadata": {},
     "output_type": "display_data"
    },
    {
     "data": {
      "image/png": "[encoded data removed]",
      "text/plain": [
       "<Figure size 1000x400 with 1 Axes>"
      ]
     },
     "metadata": {},
     "output_type": "display_data"
    },
    {
     "name": "stdout",
     "output_type": "stream",
     "text": [
      "\n",
      "Missing Values:\n",
      "id                 0\n",
      "feedback_text      0\n",
      "toxic              0\n",
      "abusive            0\n",
      "vulgar             0\n",
      "menace             0\n",
      "offense            0\n",
      "bigotry            0\n",
      "label_count        0\n",
      "text_length        0\n",
      "lang               0\n",
      "alpha_ratio        0\n",
      "is_punct           0\n",
      "is_low_alpha       0\n",
      "clean_text         0\n",
      "translated_text    0\n",
      "dtype: int64\n"
     ]
    }
   ],
   "source": [
    "from collections import Counter\n",
    "from wordcloud import WordCloud\n",
    "\n",
    "def run_eda(df):\n",
    "    \n",
    "    label_cols = ['toxic', 'abusive', 'vulgar', 'menace', 'offense', 'bigotry']\n",
    "    label_sums = df[label_cols].sum().sort_values(ascending=False)\n",
    "\n",
    "    plt.figure(figsize=(10,5))\n",
    "    sns.barplot(x=label_sums.index, y=label_sums.values, palette='magma')\n",
    "    plt.title(\"Toxicity Label Distribution\")\n",
    "    plt.ylabel(\"Count\")\n",
    "    plt.show()\n",
    "\n",
    "    all_words = \" \".join(df['clean_text']).split()\n",
    "    word_freq = Counter(all_words).most_common(20)\n",
    "\n",
    "    plt.figure(figsize=(12,5))\n",
    "    sns.barplot(x=[w[0] for w in word_freq], y=[w[1] for w in word_freq], palette=\"viridis\")\n",
    "    plt.title(\"Top 20 Most Common Words\")\n",
    "    plt.xticks(rotation=45)\n",
    "    plt.show()\n",
    "\n",
    "    plt.figure(figsize=(10,4))\n",
    "    sns.histplot(df['text_length'], bins=50, kde=True, color=\"skyblue\")\n",
    "    plt.title(\"Text Length Distribution (Words)\")\n",
    "    plt.xlabel(\"Number of Words\")\n",
    "    plt.ylabel(\"Frequency\")\n",
    "    plt.show()\n",
    "    \n",
    "    print(\"\\nMissing Values:\")\n",
    "    print(df.isnull().sum())\n",
    "\n",
    "run_eda(train_df)"
   ]
  },
  {
   "cell_type": "code",
   "execution_count": 33,
   "metadata": {},
   "outputs": [],
   "source": [
    "label_cols = ['toxic', 'abusive', 'vulgar', 'menace', 'offense', 'bigotry']\n",
    "\n",
    "X_train = train_df['clean_text']\n",
    "y_train = train_df[['toxic', 'abusive', 'vulgar', 'menace', 'offense', 'bigotry']]"
   ]
  },
  {
   "cell_type": "code",
   "execution_count": 34,
   "metadata": {},
   "outputs": [
    {
     "data": {
      "text/html": [
       "<div>\n",
       "<style scoped>\n",
       "    .dataframe tbody tr th:only-of-type {\n",
       "        vertical-align: middle;\n",
       "    }\n",
       "\n",
       "    .dataframe tbody tr th {\n",
       "        vertical-align: top;\n",
       "    }\n",
       "\n",
       "    .dataframe thead th {\n",
       "        text-align: right;\n",
       "    }\n",
       "</style>\n",
       "<table border=\"1\" class=\"dataframe\">\n",
       "  <thead>\n",
       "    <tr style=\"text-align: right;\">\n",
       "      <th></th>\n",
       "      <th>id</th>\n",
       "      <th>feedback_text</th>\n",
       "      <th>toxic</th>\n",
       "      <th>abusive</th>\n",
       "      <th>vulgar</th>\n",
       "      <th>menace</th>\n",
       "      <th>offense</th>\n",
       "      <th>bigotry</th>\n",
       "      <th>label_count</th>\n",
       "      <th>text_length</th>\n",
       "      <th>lang</th>\n",
       "      <th>alpha_ratio</th>\n",
       "      <th>is_punct</th>\n",
       "      <th>is_low_alpha</th>\n",
       "      <th>clean_text</th>\n",
       "      <th>translated_text</th>\n",
       "    </tr>\n",
       "  </thead>\n",
       "  <tbody>\n",
       "    <tr>\n",
       "      <th>0</th>\n",
       "      <td>281d77b7bebc2201</td>\n",
       "      <td>:::Sounds good.  Let me know when you're done ...</td>\n",
       "      <td>0</td>\n",
       "      <td>0</td>\n",
       "      <td>0</td>\n",
       "      <td>0</td>\n",
       "      <td>0</td>\n",
       "      <td>0</td>\n",
       "      <td>0</td>\n",
       "      <td>9</td>\n",
       "      <td>en</td>\n",
       "      <td>0.705882</td>\n",
       "      <td>False</td>\n",
       "      <td>False</td>\n",
       "      <td>sound good let know 're done 'll start pr</td>\n",
       "      <td>sound good let know 're done 'll start pr</td>\n",
       "    </tr>\n",
       "    <tr>\n",
       "      <th>1</th>\n",
       "      <td>716aac7bf3c63db1</td>\n",
       "      <td>\"\\nI say something, but it didn't actually con...</td>\n",
       "      <td>0</td>\n",
       "      <td>0</td>\n",
       "      <td>0</td>\n",
       "      <td>0</td>\n",
       "      <td>0</td>\n",
       "      <td>0</td>\n",
       "      <td>0</td>\n",
       "      <td>42</td>\n",
       "      <td>en</td>\n",
       "      <td>0.745763</td>\n",
       "      <td>False</td>\n",
       "      <td>False</td>\n",
       "      <td>say something n't actually confirm anything pu...</td>\n",
       "      <td>say something n't actually confirm anything pu...</td>\n",
       "    </tr>\n",
       "  </tbody>\n",
       "</table>\n",
       "</div>"
      ],
      "text/plain": [
       "                 id                                      feedback_text  toxic  \\\n",
       "0  281d77b7bebc2201  :::Sounds good.  Let me know when you're done ...      0   \n",
       "1  716aac7bf3c63db1  \"\\nI say something, but it didn't actually con...      0   \n",
       "\n",
       "   abusive  vulgar  menace  offense  bigotry  label_count  text_length lang  \\\n",
       "0        0       0       0        0        0            0            9   en   \n",
       "1        0       0       0        0        0            0           42   en   \n",
       "\n",
       "   alpha_ratio  is_punct  is_low_alpha  \\\n",
       "0     0.705882     False         False   \n",
       "1     0.745763     False         False   \n",
       "\n",
       "                                          clean_text  \\\n",
       "0          sound good let know 're done 'll start pr   \n",
       "1  say something n't actually confirm anything pu...   \n",
       "\n",
       "                                     translated_text  \n",
       "0          sound good let know 're done 'll start pr  \n",
       "1  say something n't actually confirm anything pu...  "
      ]
     },
     "execution_count": 34,
     "metadata": {},
     "output_type": "execute_result"
    }
   ],
   "source": [
    "train_df.head(2)"
   ]
  },
  {
   "cell_type": "code",
   "execution_count": 35,
   "metadata": {},
   "outputs": [
    {
     "data": {
      "text/plain": [
       "0                sound good let know 're done 'll start pr\n",
       "1        say something n't actually confirm anything pu...\n",
       "2        agustina barrientos modelo piñeiro juán cruz a...\n",
       "3        fyi enjoy licking stranger scrotal sacksespeci...\n",
       "4        get site many penguin asked question simple go...\n",
       "                               ...                        \n",
       "23468                                       yo man pissing\n",
       "23469                                             kid cunt\n",
       "23470    think 's january suggestion mark moldovan lang...\n",
       "23471    script character doogierussell spaghetti farts...\n",
       "23472    whale mammal take people money spend mcdonadls...\n",
       "Name: clean_text, Length: 23292, dtype: object"
      ]
     },
     "execution_count": 35,
     "metadata": {},
     "output_type": "execute_result"
    }
   ],
   "source": [
    "X_train"
   ]
  },
  {
   "cell_type": "code",
   "execution_count": 36,
   "metadata": {},
   "outputs": [
    {
     "data": {
      "text/html": [
       "<div>\n",
       "<style scoped>\n",
       "    .dataframe tbody tr th:only-of-type {\n",
       "        vertical-align: middle;\n",
       "    }\n",
       "\n",
       "    .dataframe tbody tr th {\n",
       "        vertical-align: top;\n",
       "    }\n",
       "\n",
       "    .dataframe thead th {\n",
       "        text-align: right;\n",
       "    }\n",
       "</style>\n",
       "<table border=\"1\" class=\"dataframe\">\n",
       "  <thead>\n",
       "    <tr style=\"text-align: right;\">\n",
       "      <th></th>\n",
       "      <th>toxic</th>\n",
       "      <th>abusive</th>\n",
       "      <th>vulgar</th>\n",
       "      <th>menace</th>\n",
       "      <th>offense</th>\n",
       "      <th>bigotry</th>\n",
       "    </tr>\n",
       "  </thead>\n",
       "  <tbody>\n",
       "    <tr>\n",
       "      <th>0</th>\n",
       "      <td>0</td>\n",
       "      <td>0</td>\n",
       "      <td>0</td>\n",
       "      <td>0</td>\n",
       "      <td>0</td>\n",
       "      <td>0</td>\n",
       "    </tr>\n",
       "    <tr>\n",
       "      <th>1</th>\n",
       "      <td>0</td>\n",
       "      <td>0</td>\n",
       "      <td>0</td>\n",
       "      <td>0</td>\n",
       "      <td>0</td>\n",
       "      <td>0</td>\n",
       "    </tr>\n",
       "    <tr>\n",
       "      <th>2</th>\n",
       "      <td>0</td>\n",
       "      <td>0</td>\n",
       "      <td>0</td>\n",
       "      <td>0</td>\n",
       "      <td>0</td>\n",
       "      <td>0</td>\n",
       "    </tr>\n",
       "    <tr>\n",
       "      <th>3</th>\n",
       "      <td>1</td>\n",
       "      <td>0</td>\n",
       "      <td>1</td>\n",
       "      <td>0</td>\n",
       "      <td>0</td>\n",
       "      <td>0</td>\n",
       "    </tr>\n",
       "    <tr>\n",
       "      <th>4</th>\n",
       "      <td>0</td>\n",
       "      <td>0</td>\n",
       "      <td>0</td>\n",
       "      <td>0</td>\n",
       "      <td>0</td>\n",
       "      <td>0</td>\n",
       "    </tr>\n",
       "    <tr>\n",
       "      <th>...</th>\n",
       "      <td>...</td>\n",
       "      <td>...</td>\n",
       "      <td>...</td>\n",
       "      <td>...</td>\n",
       "      <td>...</td>\n",
       "      <td>...</td>\n",
       "    </tr>\n",
       "    <tr>\n",
       "      <th>23468</th>\n",
       "      <td>1</td>\n",
       "      <td>0</td>\n",
       "      <td>1</td>\n",
       "      <td>0</td>\n",
       "      <td>0</td>\n",
       "      <td>0</td>\n",
       "    </tr>\n",
       "    <tr>\n",
       "      <th>23469</th>\n",
       "      <td>1</td>\n",
       "      <td>0</td>\n",
       "      <td>1</td>\n",
       "      <td>0</td>\n",
       "      <td>0</td>\n",
       "      <td>0</td>\n",
       "    </tr>\n",
       "    <tr>\n",
       "      <th>23470</th>\n",
       "      <td>0</td>\n",
       "      <td>0</td>\n",
       "      <td>0</td>\n",
       "      <td>0</td>\n",
       "      <td>0</td>\n",
       "      <td>0</td>\n",
       "    </tr>\n",
       "    <tr>\n",
       "      <th>23471</th>\n",
       "      <td>0</td>\n",
       "      <td>0</td>\n",
       "      <td>0</td>\n",
       "      <td>0</td>\n",
       "      <td>0</td>\n",
       "      <td>0</td>\n",
       "    </tr>\n",
       "    <tr>\n",
       "      <th>23472</th>\n",
       "      <td>1</td>\n",
       "      <td>0</td>\n",
       "      <td>0</td>\n",
       "      <td>0</td>\n",
       "      <td>1</td>\n",
       "      <td>0</td>\n",
       "    </tr>\n",
       "  </tbody>\n",
       "</table>\n",
       "<p>23292 rows × 6 columns</p>\n",
       "</div>"
      ],
      "text/plain": [
       "       toxic  abusive  vulgar  menace  offense  bigotry\n",
       "0          0        0       0       0        0        0\n",
       "1          0        0       0       0        0        0\n",
       "2          0        0       0       0        0        0\n",
       "3          1        0       1       0        0        0\n",
       "4          0        0       0       0        0        0\n",
       "...      ...      ...     ...     ...      ...      ...\n",
       "23468      1        0       1       0        0        0\n",
       "23469      1        0       1       0        0        0\n",
       "23470      0        0       0       0        0        0\n",
       "23471      0        0       0       0        0        0\n",
       "23472      1        0       0       0        1        0\n",
       "\n",
       "[23292 rows x 6 columns]"
      ]
     },
     "execution_count": 36,
     "metadata": {},
     "output_type": "execute_result"
    }
   ],
   "source": [
    "y_train"
   ]
  },
  {
   "cell_type": "markdown",
   "metadata": {},
   "source": [
    "- unsampling approach to handle imbalanced class \n",
    "- preventing the model for biased decision"
   ]
  },
  {
   "cell_type": "code",
   "execution_count": 37,
   "metadata": {},
   "outputs": [],
   "source": [
    "from sklearn.utils import resample\n",
    "import pandas as pd\n",
    "\n",
    "df_train = pd.concat([X_train, y_train], axis=1)\n",
    "\n",
    "df_majority = df_train[df_train['toxic'] == 0]\n",
    "df_minority = df_train[df_train['toxic'] == 1]\n",
    "\n",
    "df_minority_upsampled = resample(\n",
    "    df_minority,\n",
    "    replace=True,\n",
    "    n_samples=len(df_majority),\n",
    "    random_state=42\n",
    ")\n",
    "\n",
    "df_upsampled = pd.concat([df_majority, df_minority_upsampled])\n",
    "\n",
    "X_train = df_upsampled['clean_text']\n",
    "y_train = df_upsampled[label_cols]\n"
   ]
  },
  {
   "cell_type": "markdown",
   "metadata": {},
   "source": [
    "- extracts the traslated test and toxic labels for validation dataset"
   ]
  },
  {
   "cell_type": "code",
   "execution_count": 38,
   "metadata": {},
   "outputs": [
    {
     "data": {
      "text/plain": [
       "0            sound good let know 're done 'll start pr\n",
       "1    say something n't actually confirm anything pu...\n",
       "Name: clean_text, dtype: object"
      ]
     },
     "execution_count": 38,
     "metadata": {},
     "output_type": "execute_result"
    }
   ],
   "source": [
    "X_val = validation_df['translated_text']\n",
    "\n",
    "y_val = validation_df[['toxic']]\n",
    "X_train.head(2)"
   ]
  },
  {
   "cell_type": "markdown",
   "metadata": {},
   "source": [
    "### TfidfVectorizer:\n",
    "- convert text data to numerical representation\n",
    "- transform training data, test_data and validation data"
   ]
  },
  {
   "cell_type": "code",
   "execution_count": 39,
   "metadata": {},
   "outputs": [],
   "source": [
    "from sklearn.feature_extraction.text import TfidfVectorizer\n",
    "\n",
    "vectorizer = TfidfVectorizer(max_features=30000, ngram_range=(1, 2))\n",
    "\n",
    "X_train_tfidf = vectorizer.fit_transform(X_train)\n",
    "X_val_tfidf = vectorizer.transform(X_val) \n",
    "X_test_tfidf = vectorizer.transform(test_df['translated_text'])  \n"
   ]
  },
  {
   "cell_type": "code",
   "execution_count": 40,
   "metadata": {},
   "outputs": [
    {
     "name": "stdout",
     "output_type": "stream",
     "text": [
      "toxic      0\n",
      "abusive    0\n",
      "vulgar     0\n",
      "menace     0\n",
      "offense    0\n",
      "bigotry    0\n",
      "dtype: int64\n"
     ]
    }
   ],
   "source": [
    "print(y_train.isnull().sum())\n"
   ]
  },
  {
   "cell_type": "markdown",
   "metadata": {},
   "source": [
    "- Train LR model in a multi label classification"
   ]
  },
  {
   "cell_type": "code",
   "execution_count": 41,
   "metadata": {},
   "outputs": [],
   "source": [
    "from sklearn.linear_model import LogisticRegression\n",
    "\n",
    "models = {}\n",
    "for label in y_train.columns:\n",
    "    model = LogisticRegression(max_iter=1000, class_weight='balanced')\n",
    "    model.fit(X_train_tfidf, y_train[label])\n",
    "    models[label] = model\n"
   ]
  },
  {
   "cell_type": "markdown",
   "metadata": {},
   "source": [
    "- This loop find out the best threshold and store it\n"
   ]
  },
  {
   "cell_type": "code",
   "execution_count": 42,
   "metadata": {},
   "outputs": [
    {
     "name": "stdout",
     "output_type": "stream",
     "text": [
      "toxic: Best threshold=0.26, F1=0.2920\n"
     ]
    }
   ],
   "source": [
    "from sklearn.metrics import f1_score\n",
    "import numpy as np\n",
    "\n",
    "optimal_thresholds = {}\n",
    "label = 'toxic'\n",
    "probs = models[label].predict_proba(X_val_tfidf)[:, 1]\n",
    "best_thresh, best_f1 = 0.5, 0\n",
    "for thresh in np.arange(0.1, 0.9, 0.01):\n",
    "    preds = (probs >= thresh).astype(int)\n",
    "    f1 = f1_score(validation_df[label], preds)\n",
    "    if f1 > best_f1:\n",
    "        best_f1 = f1\n",
    "        best_thresh = thresh\n",
    "optimal_thresholds[label] = best_thresh\n",
    "print(f\"{label}: Best threshold={best_thresh:.2f}, F1={best_f1:.4f}\")\n",
    "\n"
   ]
  },
  {
   "cell_type": "markdown",
   "metadata": {},
   "source": [
    "- Generating predictions for test_data set\n"
   ]
  },
  {
   "cell_type": "code",
   "execution_count": 43,
   "metadata": {},
   "outputs": [],
   "source": [
    "predictions = {}\n",
    "for label in models:\n",
    "    probs = models[label].predict_proba(X_test_tfidf)[:, 1]\n",
    "    threshold = optimal_thresholds.get(label, 0.5)\n",
    "    predictions[label] = (probs >= threshold).astype(int)\n",
    "\n",
    "pred_df = pd.DataFrame(predictions)\n",
    "pred_df['id'] = test_df['id']\n"
   ]
  },
  {
   "cell_type": "markdown",
   "metadata": {},
   "source": [
    "- Validating the predictions"
   ]
  },
  {
   "cell_type": "code",
   "execution_count": 44,
   "metadata": {},
   "outputs": [
    {
     "name": "stdout",
     "output_type": "stream",
     "text": [
      "              precision    recall  f1-score   support\n",
      "\n",
      "           0       0.89      0.30      0.45       705\n",
      "           1       0.18      0.80      0.29       134\n",
      "\n",
      "    accuracy                           0.38       839\n",
      "   macro avg       0.53      0.55      0.37       839\n",
      "weighted avg       0.77      0.38      0.43       839\n",
      "\n"
     ]
    }
   ],
   "source": [
    "from sklearn.metrics import classification_report\n",
    "\n",
    "toxic_val_probs = models['toxic'].predict_proba(X_val_tfidf)[:, 1]\n",
    "toxic_val_preds = (toxic_val_probs >= optimal_thresholds['toxic']).astype(int)\n",
    "\n",
    "print(classification_report(validation_df['toxic'], toxic_val_preds))\n"
   ]
  },
  {
   "cell_type": "markdown",
   "metadata": {},
   "source": [
    "- applying the optimal threshold to predict test_data and saving the predictions"
   ]
  },
  {
   "cell_type": "code",
   "execution_count": 45,
   "metadata": {},
   "outputs": [
    {
     "name": "stdout",
     "output_type": "stream",
     "text": [
      "      id  predicted_toxic\n",
      "0  56496                0\n",
      "1  18266                0\n",
      "2  37852                1\n",
      "3  25075                0\n",
      "4    330                0\n"
     ]
    }
   ],
   "source": [
    "toxic_probs = models['toxic'].predict_proba(X_test_tfidf)[:, 1]\n",
    "\n",
    "toxic_thresh = optimal_thresholds['toxic']\n",
    "test_pred_toxic = (toxic_probs >= toxic_thresh).astype(int)\n",
    "\n",
    "test_df['predicted_toxic'] = test_pred_toxic\n",
    "\n",
    "print(test_df[['id', 'predicted_toxic']].head())"
   ]
  },
  {
   "cell_type": "code",
   "execution_count": 46,
   "metadata": {},
   "outputs": [
    {
     "data": {
      "text/plain": [
       "predicted_toxic\n",
       "1    4863\n",
       "0    1833\n",
       "Name: count, dtype: int64"
      ]
     },
     "execution_count": 46,
     "metadata": {},
     "output_type": "execute_result"
    }
   ],
   "source": [
    "test_df['predicted_toxic'].value_counts()"
   ]
  },
  {
   "cell_type": "markdown",
   "metadata": {},
   "source": [
    "- Model Training: RandomForestClassifier is trained\n",
    "- Threshold Optimization: find out the optimal threshold to find out the maximum F1 score\n",
    "- Determination and Evaluation"
   ]
  },
  {
   "cell_type": "code",
   "execution_count": 47,
   "metadata": {},
   "outputs": [],
   "source": [
    "from sklearn.ensemble import RandomForestClassifier\n",
    "models = {}\n",
    "for label in y_train.columns:\n",
    "    model = RandomForestClassifier(\n",
    "        n_estimators=100,\n",
    "        class_weight='balanced', \n",
    "        random_state=42,\n",
    "        n_jobs=-1\n",
    "    )\n",
    "    model.fit(X_train_tfidf, y_train[label])\n",
    "    models[label] = model\n"
   ]
  },
  {
   "cell_type": "code",
   "execution_count": 48,
   "metadata": {},
   "outputs": [
    {
     "name": "stdout",
     "output_type": "stream",
     "text": [
      "toxic: Best threshold=0.10, F1=0.2780\n"
     ]
    }
   ],
   "source": [
    "from sklearn.metrics import f1_score\n",
    "import numpy as np\n",
    "\n",
    "label = 'toxic'\n",
    "probs = models[label].predict_proba(X_val_tfidf)[:, 1]  \n",
    "\n",
    "best_thresh, best_f1 = 0.5, 0\n",
    "\n",
    "for thresh in np.arange(0.1, 0.9, 0.01):\n",
    "    preds = (probs >= thresh).astype(int)  \n",
    "    f1 = f1_score(validation_df[label], preds) \n",
    "    if f1 > best_f1: \n",
    "        best_f1 = f1\n",
    "        best_thresh = thresh\n",
    "optimal_thresholds = {label: best_thresh}\n",
    "\n",
    "print(f\"{label}: Best threshold={best_thresh:.2f}, F1={best_f1:.4f}\")\n"
   ]
  },
  {
   "cell_type": "code",
   "execution_count": 49,
   "metadata": {},
   "outputs": [
    {
     "name": "stdout",
     "output_type": "stream",
     "text": [
      "Validation Set Performance (Toxic):\n",
      "              precision    recall  f1-score   support\n",
      "\n",
      "           0       0.86      0.87      0.87       705\n",
      "           1       0.29      0.27      0.28       134\n",
      "\n",
      "    accuracy                           0.78       839\n",
      "   macro avg       0.58      0.57      0.57       839\n",
      "weighted avg       0.77      0.78      0.77       839\n",
      "\n"
     ]
    }
   ],
   "source": [
    "from sklearn.metrics import classification_report\n",
    "\n",
    "label = 'toxic'\n",
    "probs = models[label].predict_proba(X_val_tfidf)[:, 1]\n",
    "preds = (probs >= optimal_thresholds[label]).astype(int)\n",
    "\n",
    "print(\"Validation Set Performance (Toxic):\")\n",
    "print(classification_report(validation_df[label], preds))\n"
   ]
  },
  {
   "cell_type": "code",
   "execution_count": null,
   "metadata": {},
   "outputs": [],
   "source": []
  }
 ],
 "metadata": {
  "kernelspec": {
   "display_name": "venv",
   "language": "python",
   "name": "python3"
  },
  "language_info": {
   "codemirror_mode": {
    "name": "ipython",
    "version": 3
   },
   "file_extension": ".py",
   "mimetype": "text/x-python",
   "name": "python",
   "nbconvert_exporter": "python",
   "pygments_lexer": "ipython3",
   "version": "3.12.3"
  }
 },
 "nbformat": 4,
 "nbformat_minor": 2
}
